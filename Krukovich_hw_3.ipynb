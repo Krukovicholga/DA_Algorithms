{
 "cells": [
  {
   "cell_type": "code",
   "execution_count": 1,
   "metadata": {},
   "outputs": [],
   "source": [
    "import matplotlib.pyplot as plt\n",
    "import numpy as np\n",
    "\n",
    "%matplotlib inline"
   ]
  },
  {
   "cell_type": "code",
   "execution_count": 2,
   "metadata": {},
   "outputs": [
    {
     "data": {
      "text/plain": [
       "<matplotlib.collections.PathCollection at 0x20e01ececa0>"
      ]
     },
     "execution_count": 2,
     "metadata": {},
     "output_type": "execute_result"
    },
    {
     "data": {
      "image/png": "[encoded data removed]",
      "text/plain": [
       "<Figure size 576x576 with 1 Axes>"
      ]
     },
     "metadata": {
      "needs_background": "light"
     },
     "output_type": "display_data"
    }
   ],
   "source": [
    "from sklearn import datasets\n",
    "from matplotlib.colors import ListedColormap\n",
    "\n",
    "# сгеренируем данные с помощью sklearn.datasets\n",
    "classes = datasets.make_classification(n_samples=100, n_features=2, n_informative=2,\n",
    "                                       n_redundant=0, n_classes=2, random_state=1)\n",
    "# datasets.make_blobs(centers = 2, cluster_std = 1.5, random_state=12)\n",
    "\n",
    "# и изобразим их на графике\n",
    "colors = ListedColormap(['red', 'blue'])\n",
    "\n",
    "plt.figure(figsize=(8, 8))\n",
    "plt.scatter([x[0] for x in classes[0]], [x[1] for x in classes[0]], c=classes[1], cmap=colors)"
   ]
  },
  {
   "cell_type": "code",
   "execution_count": 3,
   "metadata": {},
   "outputs": [
    {
     "name": "stdout",
     "output_type": "stream",
     "text": [
      "Размер массива признаков обучающей выборки (70, 2)\n",
      "Размер массива признаков тестовой выборки (30, 2)\n",
      "Размер массива ответов для обучающей выборки (70,)\n",
      "Размер массива ответов для тестовой выборки (30,)\n"
     ]
    }
   ],
   "source": [
    "# перемешивание датасета\n",
    "np.random.seed(12)\n",
    "shuffle_index = np.random.permutation(classes[0].shape[0])\n",
    "X_shuffled, y_shuffled = classes[0][shuffle_index], classes[1][shuffle_index]\n",
    "\n",
    "# разбивка на обучающую и тестовую выборки\n",
    "train_proportion = 0.7\n",
    "train_test_cut = int(len(classes[0]) * train_proportion)\n",
    "\n",
    "X_train, X_test, y_train, y_test = \\\n",
    "    X_shuffled[:train_test_cut], \\\n",
    "    X_shuffled[train_test_cut:], \\\n",
    "    y_shuffled[:train_test_cut], \\\n",
    "    y_shuffled[train_test_cut:]\n",
    "    \n",
    "print(\"Размер массива признаков обучающей выборки\", X_train.shape)\n",
    "print(\"Размер массива признаков тестовой выборки\", X_test.shape)\n",
    "print(\"Размер массива ответов для обучающей выборки\", y_train.shape)\n",
    "print(\"Размер массива ответов для тестовой выборки\", y_test.shape)"
   ]
  },
  {
   "cell_type": "code",
   "execution_count": 4,
   "metadata": {},
   "outputs": [],
   "source": [
    "def sigmoid(x):\n",
    "    return 1 / (1 + np.exp(-x))"
   ]
  },
  {
   "cell_type": "code",
   "execution_count": 5,
   "metadata": {},
   "outputs": [],
   "source": [
    "def log_loss(w, X, y):\n",
    "    m = X.shape[0]\n",
    "    y=y[:, np.newaxis]\n",
    "    # используем функцию сигмоиды, написанную ранее\n",
    "    A = sigmoid(np.dot(X, w.T))\n",
    "    loss = -1.0 / m * np.sum(y * np.log(A) + (1 - y) * np.log(1 - A))\n",
    "    grad = 1.0 / m * np.dot((A - y).T, X)\n",
    "    \n",
    "    return loss, grad"
   ]
  },
  {
   "cell_type": "code",
   "execution_count": 6,
   "metadata": {},
   "outputs": [],
   "source": [
    "def optimize(w, X, y, n_iterations, eta):\n",
    "#     потери будем записывать в список для отображения в виде графика\n",
    "    losses = []\n",
    "    \n",
    "    for i in range(n_iterations):        \n",
    "        loss, grad = log_loss(w, X, y)\n",
    "        w = w - eta * grad\n",
    "        losses.append(loss)\n",
    "        \n",
    "    return w, losses"
   ]
  },
  {
   "cell_type": "code",
   "execution_count": 7,
   "metadata": {},
   "outputs": [],
   "source": [
    "def predict(w, X):\n",
    "    y_predicted = np.zeros(X.shape[0])    \n",
    "    A = sigmoid(np.dot(X, w.T))\n",
    "#     За порог отнесения к тому или иному классу примем вероятность 0.5\n",
    "    y_predicted[A[:, 0]>0.5]=1\n",
    "    y_predicted[A[:, 0]<=0.5]=0\n",
    "        \n",
    "    return y_predicted"
   ]
  },
  {
   "cell_type": "code",
   "execution_count": 8,
   "metadata": {},
   "outputs": [
    {
     "name": "stdout",
     "output_type": "stream",
     "text": [
      "Итоговый вектор весов w: [[3.72659902 0.22383415]]\n",
      "Точность на обучающей выборке: 98.571\n",
      "Точность на тестовой выборке: 96.667\n"
     ]
    }
   ],
   "source": [
    "w0 = np.zeros((1, X_train.shape[1]))\n",
    "\n",
    "n_iterations = 1000\n",
    "eta = 0.05\n",
    "\n",
    "w, losses = optimize(w0, X_train, y_train, n_iterations, eta)\n",
    "\n",
    "y_predicted_test = predict(w, X_test)\n",
    "y_predicted_train = predict(w, X_train)\n",
    "\n",
    "# В качестве меры точности возьмем долю правильных ответов\n",
    "train_accuracy = 100.0 - np.mean(np.abs(y_predicted_train - y_train)*100.0)\n",
    "test_accuracy = 100.0 - np.mean(np.abs(y_predicted_test-y_test)*100.0)\n",
    "\n",
    "print(f\"Итоговый вектор весов w: {w}\")\n",
    "print(f\"Точность на обучающей выборке: {train_accuracy:.3f}\")\n",
    "print(f\"Точность на тестовой выборке: {test_accuracy:.3f}\")"
   ]
  },
  {
   "cell_type": "code",
   "execution_count": 9,
   "metadata": {},
   "outputs": [],
   "source": [
    "class logistic:\n",
    "    @staticmethod\n",
    "    def sigmoid(x):\n",
    "        return 1 / (1 + np.exp(-x))\n",
    "    @classmethod\n",
    "    def log_loss(cls, w, X, y):\n",
    "        m = X.shape[0]\n",
    "        y=y[:, np.newaxis]\n",
    "        # используем функцию сигмоиды, написанную ранее\n",
    "        A = cls.sigmoid(np.dot(X, w.T))\n",
    "        loss = -1.0 / m * np.sum(y * np.log(A) + (1 - y) * np.log(1 - A))\n",
    "        grad = 1.0 / m * np.dot((A - y).T, X)\n",
    "        return loss, grad\n",
    "    @classmethod\n",
    "    def optimize(cls, w, X, y, n_iterations, eta):\n",
    "        #     потери будем записывать в список для отображения в виде графика\n",
    "        losses = []\n",
    "        for i in range(n_iterations):        \n",
    "            loss, grad = cls.log_loss(w, X, y)\n",
    "            w = w - eta * grad\n",
    "            losses.append(loss)\n",
    "        return w, losses\n",
    "    def __init__(self, n_iterations=1000, eta=0.05):\n",
    "        self.n_iterations=1000\n",
    "        self.eta=0.05\n",
    "    def fit(self, X, y):\n",
    "        w0 = np.zeros((1, X.shape[1]))\n",
    "        self.w, self.losses = optimize(w0, X, y, self.n_iterations, self.eta)\n",
    "    def predict_proba(self, X):\n",
    "        y_predicted = np.zeros(X.shape[0])    \n",
    "        return self.sigmoid(np.dot(X, self.w.T)).flatten()\n",
    "    def predict(self, X, thr=0.5):\n",
    "        proba=self.predict_proba(X)\n",
    "        y_predicted = np.zeros(proba.shape, dtype=bool) \n",
    "        y_predicted[proba>thr]=1\n",
    "        y_predicted[proba<=thr]=0\n",
    "        return y_predicted"
   ]
  },
  {
   "cell_type": "code",
   "execution_count": 10,
   "metadata": {},
   "outputs": [
    {
     "name": "stdout",
     "output_type": "stream",
     "text": [
      "Итоговый вектор весов w: [[3.72659902 0.22383415]]\n",
      "Точность на обучающей выборке: 98.571\n",
      "Точность на тестовой выборке: 96.667\n"
     ]
    }
   ],
   "source": [
    "mod=logistic()\n",
    "mod.fit(X_train, y_train)\n",
    "y_predicted_test = mod.predict(X_test)\n",
    "y_predicted_train = mod.predict(X_train)\n",
    "\n",
    "# В качестве меры точности возьмем долю правильных ответов\n",
    "train_accuracy = 100.0 - np.mean(np.abs(y_predicted_train - y_train)*100.0)\n",
    "test_accuracy = 100.0 - np.mean(np.abs(y_predicted_test-y_test)*100.0)\n",
    "\n",
    "print(f\"Итоговый вектор весов w: {mod.w}\")\n",
    "print(f\"Точность на обучающей выборке: {train_accuracy:.3f}\")\n",
    "print(f\"Точность на тестовой выборке: {test_accuracy:.3f}\")"
   ]
  },
  {
   "cell_type": "markdown",
   "metadata": {},
   "source": [
    "**Задание 1**"
   ]
  },
  {
   "cell_type": "markdown",
   "metadata": {},
   "source": [
    "Определите AUC_ROC и AUC_ROC для построенной модели на тестовой выборке. Используйте реализацию модели в виде класса и функцию confusion, чтобы рассчитать TPR, FPR, precision, recal для различных порогов вероятности."
   ]
  },
  {
   "cell_type": "code",
   "execution_count": 57,
   "metadata": {},
   "outputs": [],
   "source": [
    "from numpy import trapz\n",
    "\n",
    "\n",
    "def confusion(predicted, actual):\n",
    "    TP=np.sum(np.logical_and(predicted==1, actual==1))\n",
    "    FP=np.sum(np.logical_and(predicted==1, actual==0))\n",
    "    FN=np.sum(np.logical_and(predicted==0, actual==1))\n",
    "    TN=np.sum(np.logical_and(predicted==0, actual==0))\n",
    "    precision = TP/(TP + FP)\n",
    "    recall = TP/(TP + FN)\n",
    "    TPR = recall\n",
    "    FPR = FP/ (FP + TN)\n",
    "\n",
    "    return {'TP': TP, 'FP': FP, 'FN': FN, 'TN': TN, 'precision': precision, 'recall': recall, 'TPR': TPR, 'FPR': FPR}"
   ]
  },
  {
   "cell_type": "code",
   "execution_count": 58,
   "metadata": {},
   "outputs": [
    {
     "name": "stdout",
     "output_type": "stream",
     "text": [
      "Для порога по вероятности 0.1 на тестовой выборке: {'TP': 16, 'FP': 3, 'FN': 0, 'TN': 11, 'precision': 0.8421052631578947, 'recall': 1.0, 'TPR': 1.0, 'FPR': 0.21428571428571427}\n",
      "Для порога по вероятности 0.2 на тестовой выборке: {'TP': 16, 'FP': 2, 'FN': 0, 'TN': 12, 'precision': 0.8888888888888888, 'recall': 1.0, 'TPR': 1.0, 'FPR': 0.14285714285714285}\n",
      "Для порога по вероятности 0.3 на тестовой выборке: {'TP': 15, 'FP': 1, 'FN': 1, 'TN': 13, 'precision': 0.9375, 'recall': 0.9375, 'TPR': 0.9375, 'FPR': 0.07142857142857142}\n",
      "Для порога по вероятности 0.3 на тестовой выборке: {'TP': 15, 'FP': 1, 'FN': 1, 'TN': 13, 'precision': 0.9375, 'recall': 0.9375, 'TPR': 0.9375, 'FPR': 0.07142857142857142}\n",
      "Для порога по вероятности 0.4 на тестовой выборке: {'TP': 15, 'FP': 0, 'FN': 1, 'TN': 14, 'precision': 1.0, 'recall': 0.9375, 'TPR': 0.9375, 'FPR': 0.0}\n",
      "Для порога по вероятности 0.5 на тестовой выборке: {'TP': 15, 'FP': 0, 'FN': 1, 'TN': 14, 'precision': 1.0, 'recall': 0.9375, 'TPR': 0.9375, 'FPR': 0.0}\n",
      "Для порога по вероятности 0.6 на тестовой выборке: {'TP': 15, 'FP': 0, 'FN': 1, 'TN': 14, 'precision': 1.0, 'recall': 0.9375, 'TPR': 0.9375, 'FPR': 0.0}\n",
      "Для порога по вероятности 0.7 на тестовой выборке: {'TP': 14, 'FP': 0, 'FN': 2, 'TN': 14, 'precision': 1.0, 'recall': 0.875, 'TPR': 0.875, 'FPR': 0.0}\n",
      "Для порога по вероятности 0.8 на тестовой выборке: {'TP': 14, 'FP': 0, 'FN': 2, 'TN': 14, 'precision': 1.0, 'recall': 0.875, 'TPR': 0.875, 'FPR': 0.0}\n",
      "Для порога по вероятности 0.9 на тестовой выборке: {'TP': 10, 'FP': 0, 'FN': 6, 'TN': 14, 'precision': 1.0, 'recall': 0.625, 'TPR': 0.625, 'FPR': 0.0}\n",
      "Для порога по вероятности 1 на тестовой выборке: {'TP': 0, 'FP': 0, 'FN': 16, 'TN': 14, 'precision': nan, 'recall': 0.0, 'TPR': 0.0, 'FPR': 0.0}\n"
     ]
    },
    {
     "name": "stderr",
     "output_type": "stream",
     "text": [
      "<ipython-input-57-eb74cb54baae>:9: RuntimeWarning: invalid value encountered in long_scalars\n",
      "  precision = TP/(TP + FP)\n"
     ]
    }
   ],
   "source": [
    "print(\"Для порога по вероятности 0.1 на тестовой выборке:\"+\n",
    "      f\" {confusion(mod.predict(X_test, 0.1), y_test)}\")\n",
    "print(\"Для порога по вероятности 0.2 на тестовой выборке:\"+\n",
    "      f\" {confusion(mod.predict(X_test, 0.2), y_test)}\")\n",
    "print(\"Для порога по вероятности 0.3 на тестовой выборке:\"+\n",
    "      f\" {confusion(mod.predict(X_test, 0.3), y_test)}\")\n",
    "print(\"Для порога по вероятности 0.3 на тестовой выборке:\"+\n",
    "      f\" {confusion(mod.predict(X_test, 0.3), y_test)}\")\n",
    "print(\"Для порога по вероятности 0.4 на тестовой выборке:\"+\n",
    "      f\" {confusion(mod.predict(X_test, 0.4), y_test)}\")\n",
    "print(\"Для порога по вероятности 0.5 на тестовой выборке:\"+\n",
    "      f\" {confusion(mod.predict(X_test, 0.5), y_test)}\")\n",
    "print(\"Для порога по вероятности 0.6 на тестовой выборке:\"+\n",
    "      f\" {confusion(mod.predict(X_test, 0.6), y_test)}\")\n",
    "print(\"Для порога по вероятности 0.7 на тестовой выборке:\"+\n",
    "      f\" {confusion(mod.predict(X_test, 0.7), y_test)}\")\n",
    "print(\"Для порога по вероятности 0.8 на тестовой выборке:\"+\n",
    "      f\" {confusion(mod.predict(X_test, 0.8), y_test)}\")\n",
    "print(\"Для порога по вероятности 0.9 на тестовой выборке:\"+\n",
    "      f\" {confusion(mod.predict(X_test, 0.9), y_test)}\")\n",
    "print(\"Для порога по вероятности 1 на тестовой выборке:\"+\n",
    "      f\" {confusion(mod.predict(X_test, 1), y_test)}\")\n"
   ]
  },
  {
   "cell_type": "code",
   "execution_count": 59,
   "metadata": {},
   "outputs": [
    {
     "data": {
      "text/plain": [
       "[<matplotlib.lines.Line2D at 0x20e033fceb0>]"
      ]
     },
     "execution_count": 59,
     "metadata": {},
     "output_type": "execute_result"
    },
    {
     "data": {
      "image/png": "[encoded data removed]",
      "text/plain": [
       "<Figure size 432x288 with 1 Axes>"
      ]
     },
     "metadata": {
      "needs_background": "light"
     },
     "output_type": "display_data"
    }
   ],
   "source": [
    "TPR = [1, 1, 0.9375, 0.9375, 0.9375, 0.9375, 0.9375, 0.875, 0.875, 0.625, 0]\n",
    "FPR = [0.214, 0.142, 0.0714, 0.0714, 0, 0, 0, 0, 0, 0, 0 ]\n",
    "\n",
    "AUC_ROC = trapz(TPR, x = FPR, dx=0.1)\n",
    "\n",
    "plt.title('ROC curve')\n",
    "plt.ylim(0, 1.05)\n",
    "plt.xlabel('FPR')\n",
    "plt.ylabel('TPR')\n",
    "plt.grid()\n",
    "plt.legend(' ', title=f'AUC-ROC={AUC_ROC:.3f}', loc='lower right')\n",
    "plt.plot(FPR, TPR)"
   ]
  },
  {
   "cell_type": "code",
   "execution_count": 60,
   "metadata": {},
   "outputs": [
    {
     "data": {
      "text/plain": [
       "[<matplotlib.lines.Line2D at 0x20e0344ff40>]"
      ]
     },
     "execution_count": 60,
     "metadata": {},
     "output_type": "execute_result"
    },
    {
     "data": {
      "image/png": "[encoded data removed]",
      "text/plain": [
       "<Figure size 432x288 with 1 Axes>"
      ]
     },
     "metadata": {
      "needs_background": "light"
     },
     "output_type": "display_data"
    }
   ],
   "source": [
    "precision = [0.84, 0.88, 0.9375, 0.9375, 1, 1, 1, 1, 1, 1, 0]\n",
    "recall = [1, 1, 0.9375, 0.9375, 0.9375, 0.9375, 0.9375, 0.875, 0.875, 0.625, 0]\n",
    "\n",
    "AUC_PR = trapz(precision, x = recall, dx=0.1)\n",
    "\n",
    "plt.title('PR curve')\n",
    "plt.ylim(0, 1.05)\n",
    "plt.xlabel('recall')\n",
    "plt.ylabel('presision')\n",
    "plt.grid()\n",
    "plt.legend(' ', title=f'AUC-PR={AUC_PR:.3f}', loc='lower right')\n",
    "plt.plot(recall, precision)"
   ]
  }
 ],
 "metadata": {
  "kernelspec": {
   "display_name": "Python 3",
   "language": "python",
   "name": "python3"
  },
  "language_info": {
   "codemirror_mode": {
    "name": "ipython",
    "version": 3
   },
   "file_extension": ".py",
   "mimetype": "text/x-python",
   "name": "python",
   "nbconvert_exporter": "python",
   "pygments_lexer": "ipython3",
   "version": "3.8.3"
  }
 },
 "nbformat": 4,
 "nbformat_minor": 4
}
